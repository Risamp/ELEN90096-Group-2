{
 "cells": [
  {
   "cell_type": "code",
   "execution_count": 1,
   "id": "2ccdfd6b",
   "metadata": {},
   "outputs": [
    {
     "data": {
      "application/javascript": [
       "\n",
       "try {\n",
       "require(['notebook/js/codecell'], function(codecell) {\n",
       "  codecell.CodeCell.options_default.highlight_modes[\n",
       "      'magic_text/x-csrc'] = {'reg':[/^%%microblaze/]};\n",
       "  Jupyter.notebook.events.one('kernel_ready.Kernel', function(){\n",
       "      Jupyter.notebook.get_cells().map(function(cell){\n",
       "          if (cell.cell_type == 'code'){ cell.auto_highlight(); } }) ;\n",
       "  });\n",
       "});\n",
       "} catch (e) {};\n"
      ]
     },
     "metadata": {},
     "output_type": "display_data"
    },
    {
     "data": {
      "application/javascript": [
       "\n",
       "try {\n",
       "require(['notebook/js/codecell'], function(codecell) {\n",
       "  codecell.CodeCell.options_default.highlight_modes[\n",
       "      'magic_text/x-csrc'] = {'reg':[/^%%pybind11/]};\n",
       "  Jupyter.notebook.events.one('kernel_ready.Kernel', function(){\n",
       "      Jupyter.notebook.get_cells().map(function(cell){\n",
       "          if (cell.cell_type == 'code'){ cell.auto_highlight(); } }) ;\n",
       "  });\n",
       "});\n",
       "} catch (e) {};\n"
      ]
     },
     "metadata": {},
     "output_type": "display_data"
    },
    {
     "data": {
      "text/plain": [
       "RegisterMap {\n",
       "  CTRL = Register(AP_START=0, AP_DONE=0, AP_IDLE=1, AP_READY=0, RESERVED_1=0, AUTO_RESTART=0, RESERVED_2=0, INTERRUPT=0, RESERVED_3=0),\n",
       "  GIER = Register(Enable=0, RESERVED=0),\n",
       "  IP_IER = Register(CHAN0_INT_EN=0, CHAN1_INT_EN=0, RESERVED_0=0),\n",
       "  IP_ISR = Register(CHAN0_INT_ST=0, CHAN1_INT_ST=0, RESERVED_0=0),\n",
       "  input_ftmap_1 = Register(input_ftmap=write-only),\n",
       "  input_ftmap_2 = Register(input_ftmap=write-only),\n",
       "  conv1_weights_1 = Register(conv1_weights=write-only),\n",
       "  conv1_weights_2 = Register(conv1_weights=write-only),\n",
       "  conv1_biases_1 = Register(conv1_biases=write-only),\n",
       "  conv1_biases_2 = Register(conv1_biases=write-only),\n",
       "  conv1_output_ftmap_1 = Register(conv1_output_ftmap=write-only),\n",
       "  conv1_output_ftmap_2 = Register(conv1_output_ftmap=write-only),\n",
       "  conv2_weights_1 = Register(conv2_weights=write-only),\n",
       "  conv2_weights_2 = Register(conv2_weights=write-only),\n",
       "  conv2_biases_1 = Register(conv2_biases=write-only),\n",
       "  conv2_biases_2 = Register(conv2_biases=write-only),\n",
       "  conv2_output_ftmap_1 = Register(conv2_output_ftmap=write-only),\n",
       "  conv2_output_ftmap_2 = Register(conv2_output_ftmap=write-only),\n",
       "  conv3_weights_1 = Register(conv3_weights=write-only),\n",
       "  conv3_weights_2 = Register(conv3_weights=write-only),\n",
       "  conv3_biases_1 = Register(conv3_biases=write-only),\n",
       "  conv3_biases_2 = Register(conv3_biases=write-only),\n",
       "  output_ftmap_1 = Register(output_ftmap=write-only),\n",
       "  output_ftmap_2 = Register(output_ftmap=write-only)\n",
       "}"
      ]
     },
     "execution_count": 1,
     "metadata": {},
     "output_type": "execute_result"
    }
   ],
   "source": [
    "\"\"\"Deploy SRCNN Accellerator.\"\"\"\n",
    "import numpy as np\n",
    "import pynq\n",
    "\n",
    "# load bitstream\n",
    "overlay = pynq.Overlay('./srcnn.bit')\n",
    "overlay.download()\n",
    "\n",
    "# get srcnn IP reference\n",
    "srcnn = overlay.srcnn_0\n",
    "srcnn.register_map"
   ]
  },
  {
   "cell_type": "code",
   "execution_count": 2,
   "id": "d0a7b1ab",
   "metadata": {},
   "outputs": [],
   "source": [
    "def normalise(pixel):\n",
    "    return np.single(pixel/255)"
   ]
  },
  {
   "cell_type": "code",
   "execution_count": 4,
   "id": "4c1bd632",
   "metadata": {},
   "outputs": [],
   "source": [
    "from pynq import allocate\n",
    "\n",
    "H = 255\n",
    "W = 255\n",
    "N0 = 1\n",
    "N1 = 64\n",
    "N2 = 32\n",
    "N3 = 1\n",
    "F1 = 9\n",
    "F2 = 1\n",
    "F3 = 5\n",
    "\n",
    "\n",
    "#allocate buffers\n",
    "input_image =  allocate((N0, H, W), np.int16)\n",
    "conv1_w =  allocate((N1, N0, F1, F1), np.int16)\n",
    "conv1_b =  allocate((N1), np.int8)\n",
    "conv1_output =  allocate((N1, H, W), np.int16)\n",
    "conv2_w = allocate((N2, N1, F2, F2), np.int16)\n",
    "conv2_b = allocate((N2), np.int8)\n",
    "conv2_output =  allocate((N2, H, W), np.int16)\n",
    "conv3_w = allocate((N3, N2, F3, F3), np.int16)\n",
    "conv3_b = allocate((N3), np.int8)\n",
    "output_image =  allocate((N3, H, W), np.int16)\n",
    "\n",
    "# input_image =  allocate((N0, H, W), np.uint16)\n",
    "# conv1_w =  allocate((N1, N0, F1, F1), np.uint16)\n",
    "# conv1_b =  allocate((N1), np.uint16)\n",
    "# conv1_output =  allocate((N1, H, W), np.uint32)\n",
    "# conv2_w = allocate((N2, N1, F2, F2), np.uint32)\n",
    "# conv2_b = allocate((N2), np.uint16)\n",
    "# conv2_output =  allocate((N2, H, W), np.uint64)\n",
    "# conv3_w = allocate((N3, N2, F3, F3), np.uint32)\n",
    "# conv3_b = allocate((N3), np.uint16)\n",
    "# output_image =  allocate((N3, H, W), np.uint32)\n",
    "\n",
    "#instruct IP the DRAM memroy location of allocated vectors\n",
    "srcnn.write(srcnn.register_map.input_ftmap_1.address, input_image.physical_address)\n",
    "srcnn.write(srcnn.register_map.conv1_weights_1.address, conv1_w.physical_address)\n",
    "srcnn.write(srcnn.register_map.conv1_biases_1.address, conv1_b.physical_address)\n",
    "srcnn.write(srcnn.register_map.conv1_output_ftmap_1.address, conv1_output.physical_address)\n",
    "srcnn.write(srcnn.register_map.conv2_weights_1.address, conv2_w.physical_address)\n",
    "srcnn.write(srcnn.register_map.conv2_biases_1.address, conv2_b.physical_address)\n",
    "srcnn.write(srcnn.register_map.conv2_output_ftmap_1.address, conv2_output.physical_address)\n",
    "srcnn.write(srcnn.register_map.conv3_weights_1.address, conv3_w.physical_address)\n",
    "srcnn.write(srcnn.register_map.conv3_biases_1.address, conv3_b.physical_address)\n",
    "srcnn.write(srcnn.register_map.output_ftmap_1.address, output_image.physical_address)\n",
    "\n",
    "# convert to fixed point\n",
    "# def convert(a, total_bits, frac_bits): \n",
    "#     condition = 1 << (total_bits - 1) \n",
    "#     mask = (~((1 << total_bits) - 1)) & 0xFFFFFFFF \n",
    "#     return np.where(a < condition, a, (a.view('u4') | mask).view('i4')) / (1 << frac_bits)\n",
    "\n",
    "\n",
    "# conv1_w[:] = np.ndarray((1024,), 'i4' dtype='uint16')\n",
    "# float_ar = np.arange(-512, 512, dtype='f4')\n",
    "# fixed_ar[:] = float_ar * 256\n",
    "\n",
    "\n",
    "\n",
    "\n",
    "\n",
    "\n",
    "\n",
    "#load data\n",
    "conv1_w[:] = np.array(np.fromfile(open(\"./weights/conv1_weights_3x_flp.bin\", \"r\"), dtype=np.single)).reshape(N1, N0, F1, F1)\n",
    "conv1_b[:] = np.array(np.fromfile(open(\"./weights/conv1_biases_3x_flp.bin\", \"r\"), dtype=np.single)).reshape(N1)\n",
    "conv2_w[:] = np.array(np.fromfile(open(\"./weights/conv2_weights_3x_flp.bin\", \"r\"), dtype=np.single)).reshape(N2, N1, F2, F2)\n",
    "conv2_b[:] = np.array(np.fromfile(open(\"./weights/conv2_biases_3x_flp.bin\", \"r\"), dtype=np.single)).reshape(N2)\n",
    "conv3_w[:] = np.array(np.fromfile(open(\"./weights/conv3_weights_3x_flp.bin\", \"r\"), dtype=np.single)).reshape(N3, N2, F3, F3)\n",
    "conv3_b[:] = np.array(np.fromfile(open(\"./weights/conv3_biases_3x_flp.bin\", \"r\"), dtype=np.single)).reshape(N3)\n",
    "\n",
    "def load_input(filename):\n",
    "    input_image[:] = np.array([normalise(x) for x in np.fromfile(open(filename, \"r\"), dtype=np.uint8)]).reshape(N0,H,W)\n",
    "\n"
   ]
  },
  {
   "cell_type": "code",
   "execution_count": 5,
   "id": "e4e8236a",
   "metadata": {},
   "outputs": [],
   "source": [
    "#sanity check\n",
    "load_input(\"./tests/set5/butterfly_3x_LR_u8.bin\")"
   ]
  },
  {
   "cell_type": "code",
   "execution_count": null,
   "id": "3efd31e8",
   "metadata": {
    "scrolled": true
   },
   "outputs": [
    {
     "name": "stdout",
     "output_type": "stream",
     "text": [
      "still running\n",
      "still running\n",
      "still running\n",
      "still running\n",
      "still running\n",
      "still running\n",
      "still running\n",
      "still running\n",
      "still running\n",
      "still running\n",
      "still running\n",
      "still running\n"
     ]
    }
   ],
   "source": [
    "%%timeit -r 1 -n 1\n",
    "\n",
    "ctrl = srcnn.register_map.CTRL\n",
    "ctrl.AP_START = 1\n",
    "progress = 0\n",
    "while ctrl.AP_DONE != 1:\n",
    "    if progress%500000 == 0:\n",
    "        print(\"still running\")\n",
    "    progress += 1\n",
    "    pass\n"
   ]
  },
  {
   "cell_type": "code",
   "execution_count": null,
   "id": "135812b1",
   "metadata": {},
   "outputs": [],
   "source": [
    "golden_output = np.fromfile(open(\"./tests/set5/butterfly_3x_GR_flp.bin\", \"r\"), dtype=np.single).reshape(N3,H,W)\n",
    "mse = np.square(np.subtract(golden_output, output_image)).mean()\n",
    "print(mse)"
   ]
  },
  {
   "cell_type": "code",
   "execution_count": 7,
   "id": "408a48aa",
   "metadata": {},
   "outputs": [],
   "source": [
    "import time\n",
    "\n",
    "def test_srcnn(filename):\n",
    "    file_input_prefix = \"./tests/set14/inputs/\"\n",
    "    file_output_prefix = \"./tests/set14/outputs/\"\n",
    "    load_input(file_input_prefix + filename)\n",
    "    output_file = file_output_prefix + filename[:-9] + \"GT_u8.bin\"\n",
    "    tic = time.perf_counter()\n",
    "    ctrl = srcnn.register_map.CTRL\n",
    "    ctrl.AP_START = 1\n",
    "    while ctrl.AP_DONE != 1:\n",
    "        pass\n",
    "    toc = time.perf_counter()\n",
    "    print(filename, \"image complete: Elapsed time: \", toc - tic, \" seconds\")\n",
    "    golden_output = np.array([normalise(x) for x in np.fromfile(open(output_file, \"r\"), dtype=np.uint8)]).reshape(N3,H,W)\n",
    "    mse = np.square(np.subtract(golden_output, output_image)).mean()\n",
    "    print(\"Mean squared error: \", mse)\n",
    "    return (toc - tic, mse)\n",
    "    "
   ]
  },
  {
   "cell_type": "code",
   "execution_count": 8,
   "id": "edd7b882",
   "metadata": {},
   "outputs": [
    {
     "ename": "KeyboardInterrupt",
     "evalue": "",
     "output_type": "error",
     "traceback": [
      "\u001b[0;31m---------------------------------------------------------------------------\u001b[0m",
      "\u001b[0;31mKeyboardInterrupt\u001b[0m                         Traceback (most recent call last)",
      "Input \u001b[0;32mIn [8]\u001b[0m, in \u001b[0;36m<cell line: 9>\u001b[0;34m()\u001b[0m\n\u001b[1;32m      7\u001b[0m fps \u001b[38;5;241m=\u001b[39m \u001b[38;5;241m0\u001b[39m\n\u001b[1;32m      9\u001b[0m \u001b[38;5;28;01mfor\u001b[39;00m i \u001b[38;5;129;01min\u001b[39;00m inputs:\n\u001b[0;32m---> 10\u001b[0m     result \u001b[38;5;241m=\u001b[39m \u001b[43mtest_srcnn\u001b[49m\u001b[43m(\u001b[49m\u001b[43mi\u001b[49m\u001b[43m)\u001b[49m\n\u001b[1;32m     11\u001b[0m     ave_mse \u001b[38;5;241m+\u001b[39m\u001b[38;5;241m=\u001b[39m result[\u001b[38;5;241m1\u001b[39m]\n\u001b[1;32m     12\u001b[0m     fps \u001b[38;5;241m+\u001b[39m\u001b[38;5;241m=\u001b[39m result[\u001b[38;5;241m0\u001b[39m]\n",
      "Input \u001b[0;32mIn [7]\u001b[0m, in \u001b[0;36mtest_srcnn\u001b[0;34m(filename)\u001b[0m\n\u001b[1;32m      9\u001b[0m ctrl \u001b[38;5;241m=\u001b[39m srcnn\u001b[38;5;241m.\u001b[39mregister_map\u001b[38;5;241m.\u001b[39mCTRL\n\u001b[1;32m     10\u001b[0m ctrl\u001b[38;5;241m.\u001b[39mAP_START \u001b[38;5;241m=\u001b[39m \u001b[38;5;241m1\u001b[39m\n\u001b[0;32m---> 11\u001b[0m \u001b[38;5;28;01mwhile\u001b[39;00m \u001b[43mctrl\u001b[49m\u001b[38;5;241;43m.\u001b[39;49m\u001b[43mAP_DONE\u001b[49m \u001b[38;5;241m!=\u001b[39m \u001b[38;5;241m1\u001b[39m:\n\u001b[1;32m     12\u001b[0m     \u001b[38;5;28;01mpass\u001b[39;00m\n\u001b[1;32m     13\u001b[0m toc \u001b[38;5;241m=\u001b[39m time\u001b[38;5;241m.\u001b[39mperf_counter()\n",
      "File \u001b[0;32m/usr/local/share/pynq-venv/lib/python3.10/site-packages/pynq/registers.py:151\u001b[0m, in \u001b[0;36mRegister.__getitem__\u001b[0;34m(self, index)\u001b[0m\n\u001b[1;32m    149\u001b[0m     \u001b[38;5;28;01mreturn\u001b[39;00m \u001b[38;5;28mself\u001b[39m\u001b[38;5;241m.\u001b[39maccess\n\u001b[1;32m    150\u001b[0m \u001b[38;5;28;01mif\u001b[39;00m lower \u001b[38;5;241m==\u001b[39m upper:\n\u001b[0;32m--> 151\u001b[0m     \u001b[38;5;28;43mself\u001b[39;49m\u001b[38;5;241;43m.\u001b[39;49m\u001b[43m_debug\u001b[49m\u001b[43m(\u001b[49m\u001b[38;5;124;43m\"\u001b[39;49m\u001b[38;5;124;43mReading index \u001b[39;49m\u001b[38;5;132;43;01m{}\u001b[39;49;00m\u001b[38;5;124;43m at address \u001b[39;49m\u001b[38;5;132;43;01m{}\u001b[39;49;00m\u001b[38;5;124;43m\"\u001b[39;49m\n\u001b[1;32m    152\u001b[0m \u001b[43m                \u001b[49m\u001b[38;5;241;43m.\u001b[39;49m\u001b[43mformat\u001b[49m\u001b[43m(\u001b[49m\u001b[43mindex\u001b[49m\u001b[43m,\u001b[49m\u001b[43m \u001b[49m\u001b[38;5;28;43mhex\u001b[39;49m\u001b[43m(\u001b[49m\u001b[38;5;28;43mself\u001b[39;49m\u001b[38;5;241;43m.\u001b[39;49m\u001b[43maddress\u001b[49m\u001b[43m)\u001b[49m\u001b[43m)\u001b[49m\u001b[43m)\u001b[49m\n\u001b[1;32m    153\u001b[0m     mask \u001b[38;5;241m=\u001b[39m \u001b[38;5;241m1\u001b[39m \u001b[38;5;241m<<\u001b[39m lower\n\u001b[1;32m    154\u001b[0m     \u001b[38;5;28;01mreturn\u001b[39;00m (curr_val \u001b[38;5;241m&\u001b[39m mask) \u001b[38;5;241m>>\u001b[39m lower\n",
      "File \u001b[0;32m/usr/local/share/pynq-venv/lib/python3.10/site-packages/pynq/registers.py:219\u001b[0m, in \u001b[0;36mRegister._debug\u001b[0;34m(self, s, *args)\u001b[0m\n\u001b[1;32m    210\u001b[0m \u001b[38;5;250m    \u001b[39m\u001b[38;5;124;03m\"\"\"Print the register value.\u001b[39;00m\n\u001b[1;32m    211\u001b[0m \n\u001b[1;32m    212\u001b[0m \u001b[38;5;124;03m    This method is overloaded to print the register value. The output\u001b[39;00m\n\u001b[1;32m    213\u001b[0m \u001b[38;5;124;03m    is a string in hex format.\u001b[39;00m\n\u001b[1;32m    214\u001b[0m \n\u001b[1;32m    215\u001b[0m \u001b[38;5;124;03m    \"\"\"\u001b[39;00m\n\u001b[1;32m    217\u001b[0m     \u001b[38;5;28;01mreturn\u001b[39;00m \u001b[38;5;28mhex\u001b[39m(\u001b[38;5;28mself\u001b[39m[:])\n\u001b[0;32m--> 219\u001b[0m \u001b[38;5;28;01mdef\u001b[39;00m \u001b[38;5;21m_debug\u001b[39m(\u001b[38;5;28mself\u001b[39m, s, \u001b[38;5;241m*\u001b[39margs):\n\u001b[1;32m    220\u001b[0m \u001b[38;5;250m    \u001b[39m\u001b[38;5;124;03m\"\"\"The method provides debug capabilities for this class.\u001b[39;00m\n\u001b[1;32m    221\u001b[0m \n\u001b[1;32m    222\u001b[0m \u001b[38;5;124;03m    Parameters\u001b[39;00m\n\u001b[0;32m   (...)\u001b[0m\n\u001b[1;32m    231\u001b[0m \n\u001b[1;32m    232\u001b[0m \u001b[38;5;124;03m    \"\"\"\u001b[39;00m\n\u001b[1;32m    233\u001b[0m     \u001b[38;5;28;01mif\u001b[39;00m \u001b[38;5;28mself\u001b[39m\u001b[38;5;241m.\u001b[39mdebug:\n",
      "\u001b[0;31mKeyboardInterrupt\u001b[0m: "
     ]
    }
   ],
   "source": [
    "from os import listdir\n",
    "from os.path import isfile, join\n",
    "\n",
    "\n",
    "inputs = [f for f in listdir(\"./tests/set14/inputs\") if isfile(join(\"./tests/set14/inputs\", f))]\n",
    "ave_mse = 0\n",
    "fps = 0\n",
    "\n",
    "for i in inputs:\n",
    "    result = test_srcnn(i)\n",
    "    ave_mse += result[1]\n",
    "    fps += result[0]\n",
    "\n",
    "ave_mse /= len(inputs)\n",
    "fps /= len(inputs)\n",
    "\n",
    "print(\"Average MSE: \", ave_mse)\n",
    "print(\"FPS: \", fps)\n",
    "                             "
   ]
  },
  {
   "cell_type": "code",
   "execution_count": null,
   "id": "97c7d53d",
   "metadata": {},
   "outputs": [],
   "source": []
  }
 ],
 "metadata": {
  "kernelspec": {
   "display_name": "Python 3 (ipykernel)",
   "language": "python",
   "name": "python3"
  },
  "language_info": {
   "codemirror_mode": {
    "name": "ipython",
    "version": 3
   },
   "file_extension": ".py",
   "mimetype": "text/x-python",
   "name": "python",
   "nbconvert_exporter": "python",
   "pygments_lexer": "ipython3",
   "version": "3.10.12"
  }
 },
 "nbformat": 4,
 "nbformat_minor": 5
}
