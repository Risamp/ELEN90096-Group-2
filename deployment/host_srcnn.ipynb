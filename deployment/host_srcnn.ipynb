{
 "cells": [
  {
   "cell_type": "code",
   "execution_count": 37,
   "id": "2ccdfd6b",
   "metadata": {},
   "outputs": [
    {
     "data": {
      "text/plain": [
       "RegisterMap {\n",
       "  CTRL = Register(AP_START=0, AP_DONE=0, AP_IDLE=1, AP_READY=0, RESERVED_1=0, AUTO_RESTART=0, RESERVED_2=0, INTERRUPT=0, RESERVED_3=0),\n",
       "  GIER = Register(Enable=0, RESERVED=0),\n",
       "  IP_IER = Register(CHAN0_INT_EN=0, CHAN1_INT_EN=0, RESERVED_0=0),\n",
       "  IP_ISR = Register(CHAN0_INT_ST=0, CHAN1_INT_ST=0, RESERVED_0=0),\n",
       "  input_ftmap_1 = Register(input_ftmap=write-only),\n",
       "  input_ftmap_2 = Register(input_ftmap=write-only),\n",
       "  conv1_weights_1 = Register(conv1_weights=write-only),\n",
       "  conv1_weights_2 = Register(conv1_weights=write-only),\n",
       "  conv1_biases_1 = Register(conv1_biases=write-only),\n",
       "  conv1_biases_2 = Register(conv1_biases=write-only),\n",
       "  conv1_output_ftmap_1 = Register(conv1_output_ftmap=write-only),\n",
       "  conv1_output_ftmap_2 = Register(conv1_output_ftmap=write-only),\n",
       "  conv2_weights_1 = Register(conv2_weights=write-only),\n",
       "  conv2_weights_2 = Register(conv2_weights=write-only),\n",
       "  conv2_biases_1 = Register(conv2_biases=write-only),\n",
       "  conv2_biases_2 = Register(conv2_biases=write-only),\n",
       "  conv2_output_ftmap_1 = Register(conv2_output_ftmap=write-only),\n",
       "  conv2_output_ftmap_2 = Register(conv2_output_ftmap=write-only),\n",
       "  conv3_weights_1 = Register(conv3_weights=write-only),\n",
       "  conv3_weights_2 = Register(conv3_weights=write-only),\n",
       "  conv3_biases_1 = Register(conv3_biases=write-only),\n",
       "  conv3_biases_2 = Register(conv3_biases=write-only),\n",
       "  output_ftmap_1 = Register(output_ftmap=write-only),\n",
       "  output_ftmap_2 = Register(output_ftmap=write-only)\n",
       "}"
      ]
     },
     "execution_count": 37,
     "metadata": {},
     "output_type": "execute_result"
    }
   ],
   "source": [
    "\"\"\"Deploy SRCNN Accellerator.\"\"\"\n",
    "import numpy as np\n",
    "import pynq\n",
    "\n",
    "# load bitstream\n",
    "overlay = pynq.Overlay('./srcnn.bit')\n",
    "overlay.download()\n",
    "\n",
    "# get srcnn IP reference\n",
    "srcnn = overlay.srcnn_0\n",
    "srcnn.register_map"
   ]
  },
  {
   "cell_type": "code",
   "execution_count": 38,
   "id": "d0a7b1ab",
   "metadata": {},
   "outputs": [],
   "source": [
    "def normalise(pixel):\n",
    "    return np.single(pixel/255)"
   ]
  },
  {
   "cell_type": "code",
   "execution_count": 39,
   "id": "4c1bd632",
   "metadata": {},
   "outputs": [],
   "source": [
    "from pynq import allocate\n",
    "\n",
    "H = 255\n",
    "W = 255\n",
    "N0 = 1\n",
    "N1 = 64\n",
    "N2 = 32\n",
    "N3 = 1\n",
    "F1 = 9\n",
    "F2 = 1\n",
    "F3 = 5\n",
    "\n",
    "\n",
    "#allocate buffers\n",
    "input_image =  allocate((N0, H, W), np.single)\n",
    "conv1_w =  allocate((N1, N0, F1, F1), np.single)\n",
    "conv1_b =  allocate((N1), np.single)\n",
    "conv1_output =  allocate((N1, H, W), np.single)\n",
    "conv2_w = allocate((N2, N1, F2, F2), np.single)\n",
    "conv2_b = allocate((N2), np.single)\n",
    "conv2_output =  allocate((N2, H, W), np.single)\n",
    "conv3_w = allocate((N3, N2, F3, F3), np.single)\n",
    "conv3_b = allocate((N3), np.single)\n",
    "output_image =  allocate((N3, H, W), np.single)\n",
    "\n",
    "#instruct IP the DRAM memroy location of allocated vectors\n",
    "srcnn.write(srcnn.register_map.input_ftmap_1.address, input_image.physical_address)\n",
    "srcnn.write(srcnn.register_map.conv1_weights_1.address, conv1_w.physical_address)\n",
    "srcnn.write(srcnn.register_map.conv1_biases_1.address, conv1_b.physical_address)\n",
    "srcnn.write(srcnn.register_map.conv1_output_ftmap_1.address, conv1_output.physical_address)\n",
    "srcnn.write(srcnn.register_map.conv2_weights_1.address, conv2_w.physical_address)\n",
    "srcnn.write(srcnn.register_map.conv2_biases_1.address, conv2_b.physical_address)\n",
    "srcnn.write(srcnn.register_map.conv2_output_ftmap_1.address, conv2_output.physical_address)\n",
    "srcnn.write(srcnn.register_map.conv3_weights_1.address, conv3_w.physical_address)\n",
    "srcnn.write(srcnn.register_map.conv3_biases_1.address, conv3_b.physical_address)\n",
    "srcnn.write(srcnn.register_map.output_ftmap_1.address, output_image.physical_address)\n",
    "\n",
    "#load data\n",
    "conv1_w[:] = np.array(np.fromfile(open(\"./weights/conv1_weights_3x_flp.bin\", \"r\"), dtype=np.single)).reshape(N1, N0, F1, F1)\n",
    "conv1_b[:] = np.array(np.fromfile(open(\"./weights/conv1_biases_3x_flp.bin\", \"r\"), dtype=np.single)).reshape(N1)\n",
    "conv2_w[:] = np.array(np.fromfile(open(\"./weights/conv2_weights_3x_flp.bin\", \"r\"), dtype=np.single)).reshape(N2, N1, F2, F2)\n",
    "conv2_b[:] = np.array(np.fromfile(open(\"./weights/conv2_biases_3x_flp.bin\", \"r\"), dtype=np.single)).reshape(N2)\n",
    "conv3_w[:] = np.array(np.fromfile(open(\"./weights/conv3_weights_3x_flp.bin\", \"r\"), dtype=np.single)).reshape(N3, N2, F3, F3)\n",
    "conv3_b[:] = np.array(np.fromfile(open(\"./weights/conv3_biases_3x_flp.bin\", \"r\"), dtype=np.single)).reshape(N3)\n",
    "\n",
    "def load_input(filename):\n",
    "    input_image[:] = np.array([normalise(x) for x in np.fromfile(open(filename, \"r\"), dtype=np.uint8)]).reshape(N0,H,W)\n",
    "\n"
   ]
  },
  {
   "cell_type": "code",
   "execution_count": 41,
   "id": "3d070ea7",
   "metadata": {},
   "outputs": [],
   "source": [
    "#sanity check\n",
    "load_input(\"./tests/set5/butterfly_3x_LR_u8.bin\")"
   ]
  },
  {
   "cell_type": "code",
   "execution_count": 42,
   "id": "29cbd2b0",
   "metadata": {
    "scrolled": true
   },
   "outputs": [
    {
     "name": "stdout",
     "output_type": "stream",
     "text": [
      "1min 46s ± 0 ns per loop (mean ± std. dev. of 1 run, 1 loop each)\n"
     ]
    }
   ],
   "source": [
    "%%timeit -r 1 -n 1\n",
    "\n",
    "ctrl = srcnn.register_map.CTRL\n",
    "ctrl.AP_START = 1\n",
    "while ctrl.AP_DONE != 1:\n",
    "    pass\n"
   ]
  },
  {
   "cell_type": "code",
   "execution_count": 43,
   "id": "4df405ec",
   "metadata": {},
   "outputs": [
    {
     "name": "stdout",
     "output_type": "stream",
     "text": [
      "2.1787502e-13\n"
     ]
    }
   ],
   "source": [
    "golden_output = np.fromfile(open(\"./tests/set5/butterfly_3x_GR_flp.bin\", \"r\"), dtype=np.single).reshape(N3,H,W)\n",
    "mse = np.square(np.subtract(golden_output, output_image)).mean()\n",
    "print(mse)"
   ]
  },
  {
   "cell_type": "code",
   "execution_count": null,
   "id": "9ed0da25",
   "metadata": {},
   "outputs": [],
   "source": [
    "import time\n",
    "\n",
    "def test_srcnn(filename):\n",
    "    file_input_prefix = \"./tests/set14/inputs/\"\n",
    "    file_output_prefix = \"./tests/set14/outputs/\"\n",
    "    load_input(file_input_prefix + filename)\n",
    "    output_file = file_output_prefix + filename[:-9] + \"GT_u8.bin\"\n",
    "    tic = time.perf_counter()\n",
    "    ctrl = srcnn.register_map.CTRL\n",
    "    ctrl.AP_START = 1\n",
    "    while ctrl.AP_DONE != 1:\n",
    "        pass\n",
    "    toc = time.perf_counter()\n",
    "    print(filename, \"image complete: Elapsed time: \", toc - tic, \" seconds\")\n",
    "    golden_output = np.array([normalise(x) for x in np.fromfile(open(output_file, \"r\"), dtype=np.uint8)]).reshape(N3,H,W)\n",
    "    mse = np.square(np.subtract(golden_output, output_image)).mean()\n",
    "    print(\"Mean squared error: \", mse)\n",
    "    return (toc - tic, mse)\n",
    "    "
   ]
  },
  {
   "cell_type": "code",
   "execution_count": null,
   "id": "edd7b882",
   "metadata": {},
   "outputs": [
    {
     "name": "stdout",
     "output_type": "stream",
     "text": [
      "Image complete: Elapsed time:  106.70784482399995  seconds\n",
      "Mean squared error:  0.0015902378\n",
      "Image complete: Elapsed time:  106.70834523999929  seconds\n",
      "Mean squared error:  0.0011378034\n",
      "Image complete: Elapsed time:  106.70824777899998  seconds\n",
      "Mean squared error:  0.0020689496\n"
     ]
    }
   ],
   "source": [
    "from os import listdir\n",
    "from os.path import isfile, join\n",
    "\n",
    "\n",
    "inputs = [f for f in listdir(\"./tests/set14/inputs\") if isfile(join(\"./tests/set14/inputs\", f))]\n",
    "ave_mse = 0\n",
    "fps = 0\n",
    "\n",
    "for i in inputs:\n",
    "    result = test_srcnn(i)\n",
    "    ave_mse += result[1]\n",
    "    fps += result[0]\n",
    "\n",
    "ave_mse /= len(inputs)\n",
    "fps /= len(inputs)\n",
    "\n",
    "print(\"Average MSE: \", ave_mse)\n",
    "print(\"FPS: \", fps)\n",
    "                             "
   ]
  },
  {
   "cell_type": "code",
   "execution_count": null,
   "id": "8424ad1f",
   "metadata": {},
   "outputs": [],
   "source": []
  }
 ],
 "metadata": {
  "kernelspec": {
   "display_name": "Python 3 (ipykernel)",
   "language": "python",
   "name": "python3"
  },
  "language_info": {
   "codemirror_mode": {
    "name": "ipython",
    "version": 3
   },
   "file_extension": ".py",
   "mimetype": "text/x-python",
   "name": "python",
   "nbconvert_exporter": "python",
   "pygments_lexer": "ipython3",
   "version": "3.10.12"
  }
 },
 "nbformat": 4,
 "nbformat_minor": 5
}
