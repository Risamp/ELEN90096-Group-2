{
 "cells": [
  {
   "cell_type": "code",
   "execution_count": null,
   "metadata": {},
   "outputs": [],
   "source": [
    "import numpy as np\n",
    "import math\n",
    "from matplotlib import pyplot as plt"
   ]
  },
  {
   "cell_type": "code",
   "execution_count": null,
   "metadata": {},
   "outputs": [],
   "source": [
    "N0 = 1\n",
    "N1 = 64\n",
    "F1 = 9\n",
    "N2 = 32\n",
    "F2 = 1\n",
    "N3 = 1\n",
    "F3 = 5\n",
    "H = 255\n",
    "W = 255\n",
    "\n",
    "#load data\n",
    "conv1_w = np.array(np.fromfile(open(\"./weights/conv1_weights_3x_flp.bin\", \"r\"), dtype=np.single))\n",
    "conv1_b = np.array(np.fromfile(open(\"./weights/conv1_biases_3x_flp.bin\", \"r\"), dtype=np.single))\n",
    "conv2_w = np.array(np.fromfile(open(\"./weights/conv2_weights_3x_flp.bin\", \"r\"), dtype=np.single))\n",
    "conv2_b = np.array(np.fromfile(open(\"./weights/conv2_biases_3x_flp.bin\", \"r\"), dtype=np.single))\n",
    "conv3_w = np.array(np.fromfile(open(\"./weights/conv3_weights_3x_flp.bin\", \"r\"), dtype=np.single))\n",
    "conv3_b = np.array(np.fromfile(open(\"./weights/conv3_biases_3x_flp.bin\", \"r\"), dtype=np.single))\n"
   ]
  },
  {
   "cell_type": "code",
   "execution_count": null,
   "metadata": {},
   "outputs": [],
   "source": [
    "step_sizes = {\"uniform\":1.0, \"gaussian\": 1.596, \"laplacian\": 1.414, \"gamma\": 1.154}\n",
    "\n",
    "def generate_plot(x, title):\n",
    "    q25, q75 = np.percentile(x, [25, 75])\n",
    "    bin_width = 2 * (q75 - q25) * len(x) ** (-1/3)\n",
    "    if (x.max() - x.min()) == 0:\n",
    "        bins = 1\n",
    "    else :\n",
    "        bins = round((x.max() - x.min()) / bin_width)\n",
    "    plt.hist(x, bins=bins)\n",
    "    plt.title(title + \" distribution\")\n",
    "    plt.xlabel(\"values\")\n",
    "    plt.ylabel(\"frequencies\")\n",
    "    plt.show()\n",
    "\n",
    "def get_fractional_bits(step_size, bit_length, std):\n",
    "    step_size_new = step_size/bit_length\n",
    "    s = step_size_new*std\n",
    "    fractional_bits = -math.ceil(np.log2(s))\n",
    "    return fractional_bits\n",
    "\n",
    "def print_stats(data, title, distribution, spread_factor):\n",
    "    std = spread_factor*(np.std(data))+ 0.00000000001\n",
    "    print(title, \" standard deviation: \", std)\n",
    "    step_size = step_sizes[distribution]\n",
    "    fractional_bits = [get_fractional_bits(step_size, x, std) for x in range(4, 33)]\n",
    "    bits = [x for x in range(4,33)]\n",
    "    plt.plot(bits, fractional_bits)\n",
    "    plt.title(title + \" fractional bits required\")\n",
    "    plt.ylabel(\"fractional bits\")\n",
    "    plt.xlabel(\"total bits\")\n",
    "    plt.show()\n",
    "    print(title, \"fractional bits \", fractional_bits)\n",
    "    print(\"min value: \", data.min().astype(str))\n",
    "    print(\"max value: \", data.max().astype(str))\n"
   ]
  },
  {
   "cell_type": "code",
   "execution_count": null,
   "metadata": {},
   "outputs": [],
   "source": [
    "golden_mses = [2.17875e-13, 0.00161402, 0.00316839, 0.00237435, 0.00206895, 0.000454178, 0.00184747, 0.000266235, 0.000822305, 0.00193997, 0.00159024, 0.00044792, 0.0011378, 0.00171135 ]\n",
    "\n"
   ]
  },
  {
   "cell_type": "markdown",
   "metadata": {},
   "source": []
  },
  {
   "cell_type": "code",
   "execution_count": null,
   "metadata": {},
   "outputs": [],
   "source": [
    "#conv1 weights\n",
    "title = \"conv1 weights\"\n",
    "generate_plot(conv1_w, title)\n",
    "print(title)\n",
    "print_stats(conv1_w, title, \"laplacian\",1)"
   ]
  },
  {
   "cell_type": "code",
   "execution_count": null,
   "metadata": {},
   "outputs": [],
   "source": [
    "title = \"conv1 biases\"\n",
    "generate_plot(conv1_b, title)\n",
    "print(title)\n",
    "print_stats(conv1_b, title, \"laplacian\", 3)"
   ]
  },
  {
   "cell_type": "code",
   "execution_count": null,
   "metadata": {},
   "outputs": [],
   "source": [
    "title = \"conv2 weights\"\n",
    "generate_plot(conv2_w, title)\n",
    "print(title)\n",
    "print_stats(conv2_w, title, \"gaussian\", 3)"
   ]
  },
  {
   "cell_type": "code",
   "execution_count": null,
   "metadata": {},
   "outputs": [],
   "source": [
    "title = \"conv2 biases\"\n",
    "generate_plot(conv2_b, title)\n",
    "print(title)\n",
    "print_stats(conv2_b, title, \"gamma\", 1)"
   ]
  },
  {
   "cell_type": "code",
   "execution_count": null,
   "metadata": {},
   "outputs": [],
   "source": [
    "title = \"conv3 weights\"\n",
    "generate_plot(conv3_w, title)\n",
    "print(title)\n",
    "print_stats(conv3_w, title, \"gamma\", 3)"
   ]
  },
  {
   "cell_type": "code",
   "execution_count": null,
   "metadata": {},
   "outputs": [],
   "source": [
    "title = \"conv3 biases\"\n",
    "generate_plot(conv3_b, title)\n",
    "print(title)\n",
    "print_stats(conv3_b, title, \"uniform\", 1)"
   ]
  },
  {
   "cell_type": "code",
   "execution_count": null,
   "metadata": {},
   "outputs": [],
   "source": [
    "conv1_i = np.array(np.fromfile(open(\"./test/set5/butterfly_3x_CONV1_flp.bin\", \"r\"), dtype=np.uint8))\n",
    "conv1_i = np.array([x/255 for x in conv1_i])"
   ]
  },
  {
   "cell_type": "code",
   "execution_count": null,
   "metadata": {},
   "outputs": [],
   "source": [
    "title = \"conv1 inputs\"\n",
    "generate_plot(conv1_i)\n",
    "print(title)\n",
    "print_stats(conv1_i, title, \"gamma\",9)"
   ]
  },
  {
   "cell_type": "code",
   "execution_count": null,
   "metadata": {},
   "outputs": [],
   "source": [
    "##TESTING CONV1 WEIGHTS\n",
    "results_4_total_4_fractional = [0.261683, 0.228759, 0.263532, 0.242265, 0.237293, 0.123008, 0.182598, 0.390415, 0.23623, 0.186701, 0.258253, 0.272667, 0.497067, 0.220208]\n",
    "results_10_total_6_fractional = [0.058442, 0.0471704, 0.0529794, 0.0522399, 0.0486507, 0.0242804, 0.0407981, 0.0732622, 0.0478325, 0.0396395, 0.0584566, 0.0536709, 0.0969046, 0.0510876]\n",
    "results_20_total_7_fractional = [0.0155353, 27.3618, 24.8997, 25.2317, 26.3, 32.6794, 25.6995, 33.2014, 29.1689, 26.0613, 24.5799, 32.0454, 26.6842, 24.7423]\n",
    "results_15_total_13_fractional = [3.03946e-006, 0.00161698, 0.00316835, 0.00237365, 0.00207069, 0.00045507, 0.00185109, 0.000268373, 0.000824564, 0.00194434, 0.0015938, 0.000449562 , 0.00114592, 0.00171565]\n",
    "results_15_total_1_fractional = [7.65713e-007, 0.00161526 , 0.00316824 , 0.00237319 , 0.00206961 , 0.000454542, 0.00184861 , 0.000267022, 0.000823149, 0.00194194 , 0.00159126 , 0.000448519, 0.00114081 , 0.00171298 ,]\n",
    "results_12_total_1_fractional = [4.983302e-005, 0.00163492 ,0.00317322 ,0.00240671 ,0.00208849 ,0.000460812,0.00189026 ,0.000288256,0.000847328,0.00197176 ,0.0016392  ,0.000463455,0.00120978 ,0.00176407 ,]"
   ]
  },
  {
   "cell_type": "code",
   "execution_count": null,
   "metadata": {},
   "outputs": [],
   "source": [
    "#TESTING MSE FIRST LOT\n",
    "MSES = [6.76643e-005, 0.00161402, 0.00316839, 0.00242199]"
   ]
  }
 ],
 "metadata": {
  "kernelspec": {
   "display_name": "Python 3",
   "language": "python",
   "name": "python3"
  },
  "language_info": {
   "codemirror_mode": {
    "name": "ipython",
    "version": 3
   },
   "file_extension": ".py",
   "mimetype": "text/x-python",
   "name": "python",
   "nbconvert_exporter": "python",
   "pygments_lexer": "ipython3",
   "version": "3.11.5"
  },
  "orig_nbformat": 4
 },
 "nbformat": 4,
 "nbformat_minor": 2
}
